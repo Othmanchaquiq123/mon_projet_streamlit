{
 "cells": [
  {
   "cell_type": "markdown",
   "id": "abe46ee6",
   "metadata": {},
   "source": [
    "# 01_exploration.ipynb\n",
    "Analyse exploratoire initiale du jeu de données « output.csv »\n"
   ]
  },
  {
   "cell_type": "code",
   "execution_count": null,
   "id": "00e1e12a",
   "metadata": {
    "vscode": {
     "languageId": "plaintext"
    }
   },
   "outputs": [],
   "source": [
    "import pandas as pd, numpy as np, seaborn as sns, matplotlib.pyplot as plt\n",
    "from pathlib import Path\n",
    "\n",
    "DATA = Path(\"..\") / \"data\" / \"output.csv\"      # <- adapte si besoin\n",
    "df = pd.read_csv(DATA, sep=\";\", encoding=\"latin1\")\n",
    "df.head()\n"
   ]
  },
  {
   "cell_type": "code",
   "execution_count": null,
   "id": "ac2c076d",
   "metadata": {
    "vscode": {
     "languageId": "plaintext"
    }
   },
   "outputs": [],
   "source": [
    "df[\"DateDebut\"] = pd.to_datetime(df[\"DateDebut\"], errors=\"coerce\")\n",
    "df = df.dropna(subset=[\"DateDebut\"])\n"
   ]
  },
  {
   "cell_type": "code",
   "execution_count": null,
   "id": "6575509c",
   "metadata": {
    "vscode": {
     "languageId": "plaintext"
    }
   },
   "outputs": [],
   "source": [
    "df.info()\n",
    "df.describe(include=\"all\").T\n"
   ]
  },
  {
   "cell_type": "code",
   "execution_count": null,
   "id": "3252d872",
   "metadata": {
    "vscode": {
     "languageId": "plaintext"
    }
   },
   "outputs": [],
   "source": [
    "sns.histplot(df[\"DureeTravail\"], bins=40)\n",
    "plt.title(\"Distribution Durée Travail (brut)\")\n",
    "plt.show()\n",
    "\n",
    "sns.histplot(df[\"DureeArret\"], bins=40, color=\"orange\")\n",
    "plt.title(\"Distribution Durée Arrêt (brut)\")\n",
    "plt.show()\n"
   ]
  },
  {
   "cell_type": "code",
   "execution_count": null,
   "id": "d2f04e0a",
   "metadata": {
    "vscode": {
     "languageId": "plaintext"
    }
   },
   "outputs": [],
   "source": [
    "pivot = (df.groupby(\"Code_Machine\")[[\"DureeTravail\",\"DureeArret\"]]\n",
    "         .agg([\"count\",\"mean\",\"median\",\"max\"])\n",
    "         .sort_values((\"DureeTravail\",\"count\"), ascending=False))\n",
    "pivot.head(10)\n"
   ]
  },
  {
   "cell_type": "code",
   "execution_count": null,
   "id": "7915da04",
   "metadata": {
    "vscode": {
     "languageId": "plaintext"
    }
   },
   "outputs": [],
   "source": [
    "num_df = df.select_dtypes(np.number)\n",
    "plt.figure(figsize=(10,7))\n",
    "sns.heatmap(num_df.corr(), cmap=\"coolwarm\", annot=False)\n",
    "plt.title(\"Matrice de corrélation – variables numériques\")\n",
    "plt.show()\n"
   ]
  }
 ],
 "metadata": {
  "language_info": {
   "name": "python"
  }
 },
 "nbformat": 4,
 "nbformat_minor": 5
}
